{
 "cells": [
  {
   "cell_type": "code",
   "execution_count": 2,
   "id": "a832cca5-46d8-4001-a914-387ddabb6d2c",
   "metadata": {},
   "outputs": [],
   "source": [
    "# 把这个 DeDalus Plot 弄进来\n",
    "\n",
    "import dedalus_Plot as DDP"
   ]
  },
  {
   "cell_type": "code",
   "execution_count": 3,
   "id": "c3064cc7-a6d6-41a3-bdda-f599742c04cb",
   "metadata": {},
   "outputs": [
    {
     "name": "stdout",
     "output_type": "stream",
     "text": [
      "['scales', 'tasks']\n",
      "Scale keys: ['constant', 'iteration', 'sim_time', 'timestep', 'wall_time', 'world_time', 'write_number', 'x_hash_277bcf3ebc0365d949df2831f48e7ce65b7fb61f', 'z_hash_2b3e6c1ad6197e7bbb577c37c9be3babe1727daf']\n",
      "Task keys: ['D', 'M', 'p', 'tau_D1', 'tau_D2', 'tau_M1', 'tau_M2', 'tau_p', 'tau_u1', 'tau_u2', 'tau_u3', 'tau_u4', 'u', 'uy']\n",
      "\n",
      "\n",
      "\n",
      "\n",
      "\n",
      "\n",
      "['scales', 'tasks']\n",
      "Scale keys: ['constant', 'iteration', 'sim_time', 'timestep', 'wall_time', 'world_time', 'write_number', 'x_hash_277bcf3ebc0365d949df2831f48e7ce65b7fb61f', 'z_hash_2b3e6c1ad6197e7bbb577c37c9be3babe1727daf']\n",
      "Task keys: ['avg uy by x', 'liquid water']\n"
     ]
    },
    {
     "data": {
      "text/plain": [
       "'\\n在这一步里，我们首先确定了我们的数据存放点，打开。\\n然后把所有的文件路径排了个序\\n再然后通过打开数据文件的最后一个文件来看你的h5文件的结构，并且打印出来方便查看\\n'"
      ]
     },
     "execution_count": 3,
     "metadata": {},
     "output_type": "execute_result"
    }
   ],
   "source": [
    "# 第一步先创建一个Plot的instance，如果你不知道instance是什么，不用管，反正就是这么工作的\n",
    "# 可以理解为你把你想要画的东西的数据存到了一个python variable里\n",
    "\n",
    "# 你现在可以全弄默认值，就是括号里面不填东西\n",
    "my_plot_1 = DDP.Plot()\n",
    "print(f'\\n\\n\\n\\n\\n')\n",
    "\n",
    "\n",
    "# 也可以指定，注意save_dir可以直接相对路径而不用绝对路径。一般来说save_dir就是None，除非你真把数据存别的地方了\n",
    "my_plot_2 = DDP.Plot(save_dir = None, handler = 'analysis_2')\n",
    "\n",
    "\n",
    "\"\"\"\n",
    "在这一步里，我们首先确定了我们的数据存放点，打开。\n",
    "然后把所有的文件路径排了个序\n",
    "再然后通过打开数据文件的最后一个文件来看你的h5文件的结构，并且打印出来方便查看\n",
    "\"\"\""
   ]
  },
  {
   "cell_type": "code",
   "execution_count": null,
   "id": "6d0033e1-bbaf-48b8-ad74-82a14e3fc076",
   "metadata": {},
   "outputs": [
    {
     "name": "stdout",
     "output_type": "stream",
     "text": [
      "-0.023564377488776912\n",
      "1.0524100729962291\n"
     ]
    }
   ],
   "source": [
    "# 下一步就可以画图了\n",
    "# task name必填，这是你给你的物理变量的命名,\n",
    "# 就是比如 analysis_2.add_task(LqW, name='liquid water')，在name= 那块的那个，你应该在上一步也能看到\n",
    "\n",
    "# output_dir自己创建\n",
    "\n",
    "# cmap看个人喜好，红蓝、viridis、spectral、rainbow都很实用，要是做水汽的话 Blues_r做出来的很贴近现实\n",
    "\n",
    "# vmin, vmax如果有要求可以自己设，通常可以留空。\n",
    "# 一般来说如果你要对比不同参数下某个物理变量的大小，可以手动设置它们，这样一来就可以直接用颜色对比两幅图里同一物理量大小。非常好的设计\n",
    "# 这里我bobby做了一个改进就是保持了colorbar始终一致，用的是所有时刻的数据里平面出现的最大值和最小值，而不是每一时刻单独取平面最大最小值。\n",
    "# 而且那个function的算法还能排查一下数据是否有大问题，比如出现NaN,inf的情况\n",
    "\n",
    "# levelnum可以调高，就是你的colorbar分多少段，我喜欢32，图看起来基本等于连续了。\n",
    "\n",
    "# figure_size可以完全随便的\n",
    "\n",
    "# concentration 可以理解为广角镜头？我反正没怎么用过。我认为它的用处是可以调你想看的重点。我觉得 wzc现在就默认调1吧\n",
    "\n",
    "\n",
    "\n",
    "\n",
    "my_plot_2.plot_all_snapshots(task_name='liquid water', output_dir='dir_for_zichu', cmap='viridis', \n",
    "                             vmin=None, vmax=None, levelnum=32, figure_size=(10, 8), concentration=1.0)\n",
    "\n",
    "\n",
    "\n",
    "\n",
    "\n"
   ]
  },
  {
   "cell_type": "code",
   "execution_count": null,
   "id": "c3d98d7a-eac0-4bac-84fb-ca622e3146fe",
   "metadata": {},
   "outputs": [],
   "source": []
  },
  {
   "cell_type": "code",
   "execution_count": null,
   "id": "7f48b264-23c6-47e0-bdb4-c70dad50113d",
   "metadata": {},
   "outputs": [],
   "source": []
  },
  {
   "cell_type": "code",
   "execution_count": null,
   "id": "3de19473-6a03-4004-b9de-17d8750118fc",
   "metadata": {},
   "outputs": [],
   "source": []
  },
  {
   "cell_type": "code",
   "execution_count": null,
   "id": "04d431d3-d95e-4cbc-a8b5-d3428026051a",
   "metadata": {},
   "outputs": [],
   "source": []
  },
  {
   "cell_type": "code",
   "execution_count": null,
   "id": "d785f44a-e506-4934-a6a5-33db7aa76267",
   "metadata": {},
   "outputs": [],
   "source": []
  },
  {
   "cell_type": "code",
   "execution_count": null,
   "id": "2ca90ea1-24d2-4dc2-b169-15c97224af9d",
   "metadata": {},
   "outputs": [],
   "source": []
  },
  {
   "cell_type": "code",
   "execution_count": null,
   "id": "972599e6-19e3-4f29-a4a8-229aacda64db",
   "metadata": {},
   "outputs": [],
   "source": []
  },
  {
   "cell_type": "code",
   "execution_count": null,
   "id": "b91b4a9f-dde7-43fc-b335-b8738040c618",
   "metadata": {},
   "outputs": [],
   "source": []
  }
 ],
 "metadata": {
  "kernelspec": {
   "display_name": "dedalus3",
   "language": "python",
   "name": "dedalus3"
  },
  "language_info": {
   "codemirror_mode": {
    "name": "ipython",
    "version": 3
   },
   "file_extension": ".py",
   "mimetype": "text/x-python",
   "name": "python",
   "nbconvert_exporter": "python",
   "pygments_lexer": "ipython3",
   "version": "3.10.12"
  }
 },
 "nbformat": 4,
 "nbformat_minor": 5
}

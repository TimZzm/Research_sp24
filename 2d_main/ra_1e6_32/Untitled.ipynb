{
 "cells": [
  {
   "cell_type": "code",
   "execution_count": null,
   "metadata": {},
   "outputs": [
    {
     "name": "stdout",
     "output_type": "stream",
     "text": [
      "['rotational_buoyancy/rot_1121.png', 'rotational_buoyancy/rot_2743.png', 'rotational_buoyancy/rot_3130.png', 'rotational_buoyancy/rot_1509.png', 'rotational_buoyancy/rot_0530.png', 'rotational_buoyancy/rot_3687.png', 'rotational_buoyancy/rot_2737.png', 'rotational_buoyancy/rot_3036.png', 'rotational_buoyancy/rot_2427.png', 'rotational_buoyancy/rot_0325.png', 'rotational_buoyancy/rot_0793.png', 'rotational_buoyancy/rot_1738.png', 'rotational_buoyancy/rot_2500.png', 'rotational_buoyancy/rot_3334.png', 'rotational_buoyancy/rot_2245.png', 'rotational_buoyancy/rot_1655.png', 'rotational_buoyancy/rot_2399.png', 'rotational_buoyancy/rot_3772.png', 'rotational_buoyancy/rot_0570.png', 'rotational_buoyancy/rot_0854.png', 'rotational_buoyancy/rot_3567.png', 'rotational_buoyancy/rot_2729.png', 'rotational_buoyancy/rot_3062.png', 'rotational_buoyancy/rot_3984.png', 'rotational_buoyancy/rot_0742.png', 'rotational_buoyancy/rot_3619.png', 'rotational_buoyancy/rot_2350.png', 'rotational_buoyancy/rot_1856.png', 'rotational_buoyancy/rot_2545.png', 'rotational_buoyancy/rot_2332.png', 'rotational_buoyancy/rot_2130.png', 'rotational_buoyancy/rot_2953.png', 'rotational_buoyancy/rot_3924.png', 'rotational_buoyancy/rot_2081.png', 'rotational_buoyancy/rot_1538.png', 'rotational_buoyancy/rot_3760.png', 'rotational_buoyancy/rot_2277.png', 'rotational_buoyancy/rot_1937.png', 'rotational_buoyancy/rot_1262.png', 'rotational_buoyancy/rot_3000.png', 'rotational_buoyancy/rot_1217.png', 'rotational_buoyancy/rot_2210.png', 'rotational_buoyancy/rot_0606.png', 'rotational_buoyancy/rot_0323.png', 'rotational_buoyancy/rot_0224.png', 'rotational_buoyancy/rot_1353.png', 'rotational_buoyancy/rot_2561.png', 'rotational_buoyancy/rot_0534.png', 'rotational_buoyancy/rot_0204.png', 'rotational_buoyancy/rot_3570.png', 'rotational_buoyancy/rot_0605.png', 'rotational_buoyancy/rot_3612.png', 'rotational_buoyancy/rot_1070.png', 'rotational_buoyancy/rot_0436.png', 'rotational_buoyancy/rot_0615.png', 'rotational_buoyancy/rot_2396.png', 'rotational_buoyancy/rot_1163.png', 'rotational_buoyancy/rot_1073.png', 'rotational_buoyancy/rot_2519.png', 'rotational_buoyancy/rot_3651.png', 'rotational_buoyancy/rot_1638.png', 'rotational_buoyancy/rot_0913.png', 'rotational_buoyancy/rot_3944.png', 'rotational_buoyancy/rot_3200.png', 'rotational_buoyancy/rot_0413.png', 'rotational_buoyancy/rot_1423.png', 'rotational_buoyancy/rot_3186.png', 'rotational_buoyancy/rot_3799.png', 'rotational_buoyancy/rot_1039.png', 'rotational_buoyancy/rot_0964.png', 'rotational_buoyancy/rot_0130.png', 'rotational_buoyancy/rot_2680.png', 'rotational_buoyancy/rot_0288.png', 'rotational_buoyancy/rot_2222.png', 'rotational_buoyancy/rot_1385.png', 'rotational_buoyancy/rot_3068.png', 'rotational_buoyancy/rot_0154.png', 'rotational_buoyancy/rot_2306.png', 'rotational_buoyancy/rot_1064.png', 'rotational_buoyancy/rot_1399.png', 'rotational_buoyancy/rot_3484.png', 'rotational_buoyancy/rot_0681.png', 'rotational_buoyancy/rot_0951.png', 'rotational_buoyancy/rot_0511.png', 'rotational_buoyancy/rot_3945.png', 'rotational_buoyancy/rot_1597.png', 'rotational_buoyancy/rot_2274.png', 'rotational_buoyancy/rot_2176.png', 'rotational_buoyancy/rot_3613.png', 'rotational_buoyancy/rot_2358.png', 'rotational_buoyancy/rot_0661.png', 'rotational_buoyancy/rot_3176.png', 'rotational_buoyancy/rot_3412.png', 'rotational_buoyancy/rot_1995.png', 'rotational_buoyancy/rot_2589.png', 'rotational_buoyancy/rot_1511.png', 'rotational_buoyancy/rot_2595.png', 'rotational_buoyancy/rot_3961.png', 'rotational_buoyancy/rot_3466.png', 'rotational_buoyancy/rot_1258.png']\n",
      "['rotational_buoyancy/rot_0001.png', 'rotational_buoyancy/rot_0002.png', 'rotational_buoyancy/rot_0003.png', 'rotational_buoyancy/rot_0004.png', 'rotational_buoyancy/rot_0005.png', 'rotational_buoyancy/rot_0006.png', 'rotational_buoyancy/rot_0007.png', 'rotational_buoyancy/rot_0008.png', 'rotational_buoyancy/rot_0009.png', 'rotational_buoyancy/rot_0010.png', 'rotational_buoyancy/rot_0011.png', 'rotational_buoyancy/rot_0012.png', 'rotational_buoyancy/rot_0013.png', 'rotational_buoyancy/rot_0014.png', 'rotational_buoyancy/rot_0015.png', 'rotational_buoyancy/rot_0016.png', 'rotational_buoyancy/rot_0017.png', 'rotational_buoyancy/rot_0018.png', 'rotational_buoyancy/rot_0019.png', 'rotational_buoyancy/rot_0020.png', 'rotational_buoyancy/rot_0021.png', 'rotational_buoyancy/rot_0022.png', 'rotational_buoyancy/rot_0023.png', 'rotational_buoyancy/rot_0024.png', 'rotational_buoyancy/rot_0025.png', 'rotational_buoyancy/rot_0026.png', 'rotational_buoyancy/rot_0027.png', 'rotational_buoyancy/rot_0028.png', 'rotational_buoyancy/rot_0029.png', 'rotational_buoyancy/rot_0030.png', 'rotational_buoyancy/rot_0031.png', 'rotational_buoyancy/rot_0032.png', 'rotational_buoyancy/rot_0033.png', 'rotational_buoyancy/rot_0034.png', 'rotational_buoyancy/rot_0035.png', 'rotational_buoyancy/rot_0036.png', 'rotational_buoyancy/rot_0037.png', 'rotational_buoyancy/rot_0038.png', 'rotational_buoyancy/rot_0039.png', 'rotational_buoyancy/rot_0040.png', 'rotational_buoyancy/rot_0041.png', 'rotational_buoyancy/rot_0042.png', 'rotational_buoyancy/rot_0043.png', 'rotational_buoyancy/rot_0044.png', 'rotational_buoyancy/rot_0045.png', 'rotational_buoyancy/rot_0046.png', 'rotational_buoyancy/rot_0047.png', 'rotational_buoyancy/rot_0048.png', 'rotational_buoyancy/rot_0049.png', 'rotational_buoyancy/rot_0050.png', 'rotational_buoyancy/rot_0051.png', 'rotational_buoyancy/rot_0052.png', 'rotational_buoyancy/rot_0053.png', 'rotational_buoyancy/rot_0054.png', 'rotational_buoyancy/rot_0055.png', 'rotational_buoyancy/rot_0056.png', 'rotational_buoyancy/rot_0057.png', 'rotational_buoyancy/rot_0058.png', 'rotational_buoyancy/rot_0059.png', 'rotational_buoyancy/rot_0060.png', 'rotational_buoyancy/rot_0061.png', 'rotational_buoyancy/rot_0062.png', 'rotational_buoyancy/rot_0063.png', 'rotational_buoyancy/rot_0064.png', 'rotational_buoyancy/rot_0065.png', 'rotational_buoyancy/rot_0066.png', 'rotational_buoyancy/rot_0067.png', 'rotational_buoyancy/rot_0068.png', 'rotational_buoyancy/rot_0069.png', 'rotational_buoyancy/rot_0070.png', 'rotational_buoyancy/rot_0071.png', 'rotational_buoyancy/rot_0072.png', 'rotational_buoyancy/rot_0073.png', 'rotational_buoyancy/rot_0074.png', 'rotational_buoyancy/rot_0075.png', 'rotational_buoyancy/rot_0076.png', 'rotational_buoyancy/rot_0077.png', 'rotational_buoyancy/rot_0078.png', 'rotational_buoyancy/rot_0079.png', 'rotational_buoyancy/rot_0080.png', 'rotational_buoyancy/rot_0081.png', 'rotational_buoyancy/rot_0082.png', 'rotational_buoyancy/rot_0083.png', 'rotational_buoyancy/rot_0084.png', 'rotational_buoyancy/rot_0085.png', 'rotational_buoyancy/rot_0086.png', 'rotational_buoyancy/rot_0087.png', 'rotational_buoyancy/rot_0088.png', 'rotational_buoyancy/rot_0089.png', 'rotational_buoyancy/rot_0090.png', 'rotational_buoyancy/rot_0091.png', 'rotational_buoyancy/rot_0092.png', 'rotational_buoyancy/rot_0093.png', 'rotational_buoyancy/rot_0094.png', 'rotational_buoyancy/rot_0095.png', 'rotational_buoyancy/rot_0096.png', 'rotational_buoyancy/rot_0097.png', 'rotational_buoyancy/rot_0098.png', 'rotational_buoyancy/rot_0099.png', 'rotational_buoyancy/rot_0100.png']\n",
      "almost there\n"
     ]
    }
   ],
   "source": [
    "import matplotlib.animation as Animation\n",
    "from PIL import Image\n",
    "import os\n",
    "from os import listdir\n",
    "import matplotlib\n",
    "\n",
    "import matplotlib.pyplot as plt\n",
    "from dedalus.extras import plot_tools\n",
    "\n",
    "\n",
    "folder_dir = f'rotational_buoyancy'\n",
    "\n",
    "# Get a list of PNG file paths from the directory\n",
    "file_paths = [os.path.join(folder_dir, f) for f in listdir(folder_dir) if os.path.isfile(os.path.join(folder_dir, f)) and f.endswith('.png')]\n",
    "print(file_paths[:100])\n",
    "\n",
    "# Sort the list of file paths\n",
    "file_paths.sort()\n",
    "print(file_paths[:100])\n",
    "\n",
    "# Read the images using PIL\n",
    "imgs = [Image.open(f) for f in file_paths]\n",
    "\n",
    "fig = plt.figure(figsize=(16,4),dpi=200)\n",
    "fig.patch.set_visible(False)\n",
    "plt.axis('off')\n",
    "print(\"almost there\")\n",
    "\n",
    "# Wrap each image in a list to create a list of sequences of artists\n",
    "imgs = [[plt.imshow(img, animated=True)] for img in imgs]\n",
    "\n",
    "ani = Animation.ArtistAnimation(fig, imgs, interval=250, blit=True, repeat_delay=1000)\n",
    "\n",
    "# Save the animation to a file\n",
    "ani.save(f'rotational_buoyancy.mp4',dpi=200)"
   ]
  },
  {
   "cell_type": "code",
   "execution_count": null,
   "metadata": {},
   "outputs": [],
   "source": [
    "name = 'rotational_uy'\n",
    "folder_dir = f'{name}'\n",
    "\n",
    "# Get a list of PNG file paths from the directory\n",
    "file_paths = [os.path.join(folder_dir, f) for f in listdir(folder_dir) if os.path.isfile(os.path.join(folder_dir, f)) and f.endswith('.png')]\n",
    "print(file_paths[:100])\n",
    "\n",
    "# Sort the list of file paths\n",
    "file_paths.sort()\n",
    "print(file_paths[:100])\n",
    "\n",
    "# Read the images using PIL\n",
    "imgs = [Image.open(f) for f in file_paths]\n",
    "\n",
    "fig = plt.figure(figsize=(16,4),dpi=200)\n",
    "fig.patch.set_visible(False)\n",
    "plt.axis('off')\n",
    "print(\"almost there\")\n",
    "\n",
    "# Wrap each image in a list to create a list of sequences of artists\n",
    "imgs = [[plt.imshow(img, animated=True)] for img in imgs]\n",
    "\n",
    "ani = Animation.ArtistAnimation(fig, imgs, interval=250, blit=True, repeat_delay=1000)\n",
    "\n",
    "# Save the animation to a file\n",
    "ani.save(f'{name}.mp4',dpi=200)"
   ]
  },
  {
   "cell_type": "code",
   "execution_count": null,
   "metadata": {},
   "outputs": [],
   "source": [
    "name = 'moist_buoyancy'\n",
    "folder_dir = f'{name}'\n",
    "\n",
    "# Get a list of PNG file paths from the directory\n",
    "file_paths = [os.path.join(folder_dir, f) for f in listdir(folder_dir) if os.path.isfile(os.path.join(folder_dir, f)) and f.endswith('.png')]\n",
    "print(file_paths[:100])\n",
    "\n",
    "# Sort the list of file paths\n",
    "file_paths.sort()\n",
    "print(file_paths[:100])\n",
    "\n",
    "# Read the images using PIL\n",
    "imgs = [Image.open(f) for f in file_paths]\n",
    "\n",
    "fig = plt.figure(figsize=(16,4),dpi=200)\n",
    "fig.patch.set_visible(False)\n",
    "plt.axis('off')\n",
    "print(\"almost there\")\n",
    "\n",
    "# Wrap each image in a list to create a list of sequences of artists\n",
    "imgs = [[plt.imshow(img, animated=True)] for img in imgs]\n",
    "\n",
    "ani = Animation.ArtistAnimation(fig, imgs, interval=250, blit=True, repeat_delay=1000)\n",
    "\n",
    "# Save the animation to a file\n",
    "ani.save(f'{name}.mp4',dpi=200)"
   ]
  }
 ],
 "metadata": {
  "kernelspec": {
   "display_name": "dedalus3",
   "language": "python",
   "name": "dedalus3"
  },
  "language_info": {
   "codemirror_mode": {
    "name": "ipython",
    "version": 3
   },
   "file_extension": ".py",
   "mimetype": "text/x-python",
   "name": "python",
   "nbconvert_exporter": "python",
   "pygments_lexer": "ipython3",
   "version": "3.10.12"
  }
 },
 "nbformat": 4,
 "nbformat_minor": 4
}
